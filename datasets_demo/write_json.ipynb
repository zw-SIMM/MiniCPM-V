{
 "cells": [
  {
   "cell_type": "code",
   "execution_count": 1,
   "metadata": {},
   "outputs": [
    {
     "name": "stdout",
     "output_type": "stream",
     "text": [
      "Data has been written to conversations.json\n"
     ]
    }
   ],
   "source": [
    "import json\n",
    "\n",
    "data = [\n",
    "    {\n",
    "        \"id\": \"0\",\n",
    "        \"image\": \"path/to/image_0.jpg\",\n",
    "        \"conversations\": [\n",
    "            {\n",
    "                'role': 'user', \n",
    "                'content': '<image>\\nHow many desserts are on the white plate?'\n",
    "            }, \n",
    "            {\n",
    "                'role': 'assistant', \n",
    "                'content': 'There are three desserts on the white plate.'\n",
    "            },   \n",
    "            {\n",
    "                'role': 'user', \n",
    "                'content': 'What type of desserts are they?'\n",
    "            },\n",
    "            {\n",
    "                'role': 'assistant', \n",
    "                'content': 'The desserts are cakes with bananas and pecans on top. They share similarities with donuts, but the presence of bananas and pecans differentiates them.'\n",
    "            }, \n",
    "            {\n",
    "                'role': 'user', \n",
    "                'content': 'What is the setting of the image?'\n",
    "            }, \n",
    "            {\n",
    "                'role': 'assistant', \n",
    "                'content': 'The image is set on a table top with a plate containing the three desserts.'\n",
    "            },\n",
    "        ]\n",
    "    },\n",
    "]\n",
    "\n",
    "# Write the data to a JSON file\n",
    "with open('conversations.json', 'w') as file:\n",
    "    json.dump(data, file, indent=4)\n",
    "\n",
    "print(\"Data has been written to conversations.json\")\n"
   ]
  }
 ],
 "metadata": {
  "kernelspec": {
   "display_name": "Python 3",
   "language": "python",
   "name": "python3"
  },
  "language_info": {
   "codemirror_mode": {
    "name": "ipython",
    "version": 3
   },
   "file_extension": ".py",
   "mimetype": "text/x-python",
   "name": "python",
   "nbconvert_exporter": "python",
   "pygments_lexer": "ipython3",
   "version": "3.10.14"
  }
 },
 "nbformat": 4,
 "nbformat_minor": 2
}
